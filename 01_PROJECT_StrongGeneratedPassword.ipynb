{
 "cells": [
  {
   "cell_type": "markdown",
   "metadata": {},
   "source": [
    "# First, I import random"
   ]
  },
  {
   "cell_type": "code",
   "execution_count": 5,
   "metadata": {},
   "outputs": [],
   "source": [
    "import random"
   ]
  },
  {
   "cell_type": "markdown",
   "metadata": {},
   "source": [
    "# I create a string with all the digits that can be in the password"
   ]
  },
  {
   "cell_type": "code",
   "execution_count": 6,
   "metadata": {},
   "outputs": [],
   "source": [
    "digits = 'abcdefghijklmnopqrstuvwxyz1234567890ABCDEFGHIJKLMNOPQRSTUVWXYZ!@#$%&^_?¿'"
   ]
  },
  {
   "cell_type": "markdown",
   "metadata": {},
   "source": [
    "# Then, I create a def with an input in it that only takes integers, if not an integer, it asks again. This is to ask for how many password I need to create. "
   ]
  },
  {
   "cell_type": "code",
   "execution_count": 23,
   "metadata": {},
   "outputs": [
    {
     "name": "stdout",
     "output_type": "stream",
     "text": [
      "Number of passwords? - f\n",
      "This is not a number. Please write a number\n",
      "Number of passwords? - 5\n"
     ]
    }
   ],
   "source": [
    "def quantity(x):\n",
    " \n",
    "    while True:\n",
    "            x = input('Number of passwords? - ')\n",
    "            if x.isdigit():\n",
    "                x = int(x)\n",
    "                break\n",
    "            else:\n",
    "                print(\"This is not a number. Please write a number\")\n",
    "\n",
    "quantity(x)"
   ]
  },
  {
   "cell_type": "markdown",
   "metadata": {},
   "source": [
    "# Same logic as before but here I want to define the length of the password. "
   ]
  },
  {
   "cell_type": "code",
   "execution_count": 25,
   "metadata": {},
   "outputs": [
    {
     "name": "stdout",
     "output_type": "stream",
     "text": [
      "Length of password? - 5\n"
     ]
    }
   ],
   "source": [
    "\n",
    "    while True:\n",
    "        leng = input('Length of password? - ')\n",
    "        if leng.isdigit():\n",
    "            leng = int(leng)\n",
    "            break\n",
    "        else:\n",
    "            print(\"This is not a number. Please write a number\")\n"
   ]
  },
  {
   "cell_type": "markdown",
   "metadata": {},
   "source": [
    "# Finally, I call random.choice to generate random passwords. "
   ]
  },
  {
   "cell_type": "code",
   "execution_count": 26,
   "metadata": {},
   "outputs": [
    {
     "name": "stdout",
     "output_type": "stream",
     "text": [
      "Qmmwr\n",
      "o0KTB\n",
      "k67b?\n"
     ]
    }
   ],
   "source": [
    "for i in range (int(x)):\n",
    "    password = ''\n",
    "    for x in range(leng):\n",
    "        password += random.choice(digits)\n",
    "    print(password)\n",
    "    \n",
    "    "
   ]
  },
  {
   "cell_type": "code",
   "execution_count": null,
   "metadata": {},
   "outputs": [],
   "source": []
  }
 ],
 "metadata": {
  "kernelspec": {
   "display_name": "Python 3",
   "language": "python",
   "name": "python3"
  },
  "language_info": {
   "codemirror_mode": {
    "name": "ipython",
    "version": 3
   },
   "file_extension": ".py",
   "mimetype": "text/x-python",
   "name": "python",
   "nbconvert_exporter": "python",
   "pygments_lexer": "ipython3",
   "version": "3.7.6"
  }
 },
 "nbformat": 4,
 "nbformat_minor": 4
}
